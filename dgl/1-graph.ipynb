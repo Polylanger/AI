{
 "cells": [
  {
   "cell_type": "code",
   "execution_count": 3,
   "metadata": {},
   "outputs": [
    {
     "name": "stdout",
     "output_type": "stream",
     "text": [
      "Graph(num_nodes=4, num_edges=4,\n",
      "      ndata_schemes={}\n",
      "      edata_schemes={})\n",
      "tensor([0, 1, 2, 3])\n",
      "(tensor([0, 0, 0, 1]), tensor([1, 2, 3, 3]))\n",
      "(tensor([0, 0, 0, 1]), tensor([1, 2, 3, 3]), tensor([0, 1, 2, 3]))\n",
      "(tensor([0, 0, 0, 1]), tensor([1, 2, 3, 3]), tensor([0, 1, 2, 3]))\n",
      "tensor([0, 1, 2, 3, 4, 5, 6, 7])\n"
     ]
    },
    {
     "data": {
      "text/plain": [
       "(tensor([0, 0, 0, 1, 1, 2, 3, 3]), tensor([1, 2, 3, 0, 3, 0, 0, 1]))"
      ]
     },
     "execution_count": 3,
     "metadata": {},
     "output_type": "execute_result"
    }
   ],
   "source": [
    "# 创建节点和边\n",
    "\n",
    "import dgl\n",
    "import torch as th\n",
    "\n",
    "# 边 0->1, 0->2, 0->3, 1->3\n",
    "u, v = th.tensor([0, 0, 0, 1]), th.tensor([1, 2, 3, 3])\n",
    "g = dgl.graph((u, v))\n",
    "print(g) # 图中节点的数量是DGL通过给定的图的边列表中最大的点ID推断所得出的\n",
    "\n",
    "# 获取节点的ID\n",
    "print(g.nodes())\n",
    "\n",
    "# 获取边的对应端点\n",
    "print(g.edges())\n",
    "\n",
    "# 获取边的对应端点和边ID\n",
    "print(g.edges(form='all'))\n",
    "\n",
    "# 如果具有最大ID的节点没有边，在创建图的时候，用户需要明确地指明节点的数量。\n",
    "g = dgl.graph((u, v), num_nodes=8)\n",
    "# 获取边的对应端点和边ID\n",
    "print(g.edges(form='all'))\n",
    "# 获取节点的ID\n",
    "print(g.nodes())\n",
    "\n",
    "bg = dgl.to_bidirected(g)\n",
    "bg.edges()"
   ]
  },
  {
   "cell_type": "code",
   "execution_count": 4,
   "metadata": {},
   "outputs": [
    {
     "name": "stdout",
     "output_type": "stream",
     "text": [
      "torch.int64\n"
     ]
    },
    {
     "data": {
      "text/plain": [
       "torch.int32"
      ]
     },
     "execution_count": 4,
     "metadata": {},
     "output_type": "execute_result"
    }
   ],
   "source": [
    "# 类型\n",
    "\n",
    "edges = th.tensor([2, 5, 3]), th.tensor([3, 5, 0])  # 边：2->3, 5->5, 3->0\n",
    "g64 = dgl.graph(edges)  # DGL默认使用int64\n",
    "print(g64.idtype)  \n",
    "\n",
    "g32 = dgl.graph(edges, idtype=th.int32)  # 使用int32构建图\n",
    "g32.idtype\n",
    "\n",
    "g64_2 = g32.long()  # 转换成int64\n",
    "g64_2.idtype\n",
    "\n",
    "g32_2 = g64.int()  # 转换成int32\n",
    "g32_2.idtype"
   ]
  },
  {
   "cell_type": "code",
   "execution_count": 5,
   "metadata": {},
   "outputs": [
    {
     "data": {
      "text/plain": [
       "tensor([1, 1], dtype=torch.int32)"
      ]
     },
     "execution_count": 5,
     "metadata": {},
     "output_type": "execute_result"
    }
   ],
   "source": [
    "# 属性\n",
    "\n",
    "g = dgl.graph(([0, 0, 1, 5], [1, 2, 2, 0])) # 6个节点，4条边\n",
    "\n",
    "g.ndata['x'] = th.ones(g.num_nodes(), 3)               # 长度为3的节点特征\n",
    "g.edata['x'] = th.ones(g.num_edges(), dtype=th.int32)  # 标量整型特征\n",
    "\n",
    "# 不同名称的特征可以具有不同形状\n",
    "g.ndata['y'] = th.randn(g.num_nodes(), 5)\n",
    "g.ndata['x'][0]                  # 获取节点1的特征\n",
    "\n",
    "g.edata['x'][th.tensor([0, 3])]  # 获取边0和3的特征"
   ]
  },
  {
   "cell_type": "code",
   "execution_count": 10,
   "metadata": {},
   "outputs": [
    {
     "data": {
      "text/plain": [
       "tensor([[ 0.0908,  0.0872,  0.2179,  1.4998,  2.2404],\n",
       "        [-0.8600,  1.6146, -0.3041, -0.7136, -0.2585],\n",
       "        [-0.7883,  0.0594, -0.8250,  0.5374, -1.5971],\n",
       "        [-0.5913, -0.1998, -0.8382,  0.8527, -0.5278],\n",
       "        [ 0.0944,  0.5783, -0.6903,  0.6304, -0.9963],\n",
       "        [ 0.5715, -0.8006,  0.2073, -0.9556, -0.6067]])"
      ]
     },
     "execution_count": 10,
     "metadata": {},
     "output_type": "execute_result"
    }
   ],
   "source": [
    "g.ndata['y']"
   ]
  },
  {
   "cell_type": "code",
   "execution_count": 7,
   "metadata": {},
   "outputs": [
    {
     "data": {
      "text/plain": [
       "Graph(num_nodes=4, num_edges=4,\n",
       "      ndata_schemes={}\n",
       "      edata_schemes={})"
      ]
     },
     "execution_count": 7,
     "metadata": {},
     "output_type": "execute_result"
    }
   ],
   "source": [
    "import dgl\n",
    "import torch as th\n",
    "import scipy.sparse as sp\n",
    "spmat = sp.rand(100, 100, density=0.05) # 5%非零项\n",
    "dgl.from_scipy(spmat) \n",
    "\n",
    "import networkx as nx\n",
    "nx_g = nx.path_graph(5) # 一条链路0-1-2-3-4\n",
    "dgl.from_networkx(nx_g) # 来自NetworkX\n",
    "\n",
    "nxg = nx.DiGraph([(2, 1), (1, 2), (2, 3), (0, 0)])\n",
    "dgl.from_networkx(nxg)"
   ]
  },
  {
   "cell_type": "code",
   "execution_count": 25,
   "metadata": {},
   "outputs": [
    {
     "data": {
      "text/plain": [
       "10"
      ]
     },
     "execution_count": 25,
     "metadata": {},
     "output_type": "execute_result"
    }
   ],
   "source": [
    "# 创建一个具有3种节点类型和3种边类型的异构图\n",
    "graph_data = {\n",
    "   ('drug', 'interacts', 'drug'): (th.tensor([0, 1]), th.tensor([1, 2])),\n",
    "   ('drug', 'interacts', 'gene'): (th.tensor([0, 1]), th.tensor([2, 3])),\n",
    "   ('drug', 'treats', 'disease'): (th.tensor([1]), th.tensor([2]))\n",
    "}\n",
    "g = dgl.heterograph(graph_data)\n",
    "g.metagraph().edges()\n",
    "\n",
    "g.num_nodes()\n",
    "g.num_nodes('drug')\n",
    "\n",
    "g.nodes['drug'].data['hv'] = th.ones(3, 1)\n",
    "g.nodes['drug'].data['hv']\n",
    "\n",
    "g.edges['treats'].data['he'] = th.zeros(1, 1)\n",
    "g.edges['treats'].data['he']\n",
    "\n"
   ]
  },
  {
   "cell_type": "code",
   "execution_count": 29,
   "metadata": {},
   "outputs": [
    {
     "data": {
      "text/plain": [
       "tensor([[1.],\n",
       "        [1.],\n",
       "        [1.],\n",
       "        [1.]])"
      ]
     },
     "execution_count": 29,
     "metadata": {},
     "output_type": "execute_result"
    }
   ],
   "source": [
    "g = dgl.heterograph({\n",
    "   ('drug', 'interacts', 'drug'): (th.tensor([0, 1]), th.tensor([1, 2])),\n",
    "   ('drug', 'is similar', 'drug'): (th.tensor([0, 1]), th.tensor([2, 3]))\n",
    "})\n",
    "g.ndata['hv'] = th.ones(4, 1)\n",
    "\n",
    "g.ndata['hv']"
   ]
  },
  {
   "cell_type": "code",
   "execution_count": 40,
   "metadata": {},
   "outputs": [
    {
     "data": {
      "text/plain": [
       "['disease', 'drug', 'gene']"
      ]
     },
     "execution_count": 40,
     "metadata": {},
     "output_type": "execute_result"
    }
   ],
   "source": [
    "g = dgl.heterograph({\n",
    "   ('drug', 'interacts', 'drug'): (th.tensor([0, 1]), th.tensor([1, 2])),\n",
    "   ('drug', 'interacts', 'gene'): (th.tensor([0, 1]), th.tensor([2, 3])),\n",
    "   ('drug', 'treats', 'disease'): (th.tensor([1]), th.tensor([2]))\n",
    "})\n",
    "\n",
    "g.nodes['drug'].data['hv'] = th.ones(3, 1)\n",
    "g.nodes['disease'].data['hv'] = th.ones(3, 1)\n",
    "g.nodes['disease'].data['hu'] = th.ones(3, 1)\n",
    "\n",
    "eg = dgl.edge_type_subgraph(g, [('drug', 'interacts', 'drug'),\n",
    "                                ('drug', 'treats', 'disease')])\n",
    "\n",
    "eg.nodes['drug'].data['hv']\n",
    "\n",
    "g.ntypes\n",
    "\n"
   ]
  },
  {
   "cell_type": "code",
   "execution_count": 59,
   "metadata": {},
   "outputs": [
    {
     "data": {
      "text/plain": [
       "device(type='cpu')"
      ]
     },
     "execution_count": 59,
     "metadata": {},
     "output_type": "execute_result"
    }
   ],
   "source": [
    "g = dgl.heterograph({\n",
    "   ('drug', 'interacts', 'drug'): (th.tensor([0, 1]), th.tensor([1, 3])),\n",
    "   ('drug', 'treats', 'disease'): (th.tensor([1]), th.tensor([2]))})\n",
    "g.nodes['drug'].data['hv'] = th.zeros(4, 1)\n",
    "g.nodes['disease'].data['hv'] = th.ones(3, 1)\n",
    "g.edges['interacts'].data['he'] = th.zeros(2, 1)\n",
    "g.edges['treats'].data['he'] = th.zeros(1, 2)\n",
    "\n",
    "hg = dgl.to_homogeneous(g, ndata=['hv'])\n",
    "\n",
    "hg.ndata[dgl.NTYPE]\n",
    "\n",
    "hg.ndata[dgl.NID]\n"
   ]
  },
  {
   "cell_type": "code",
   "execution_count": 60,
   "metadata": {},
   "outputs": [
    {
     "data": {
      "text/plain": [
       "device(type='cpu')"
      ]
     },
     "execution_count": 60,
     "metadata": {},
     "output_type": "execute_result"
    }
   ],
   "source": [
    "\n",
    "g.device"
   ]
  }
 ],
 "metadata": {
  "kernelspec": {
   "display_name": "dgl",
   "language": "python",
   "name": "python3"
  },
  "language_info": {
   "codemirror_mode": {
    "name": "ipython",
    "version": 3
   },
   "file_extension": ".py",
   "mimetype": "text/x-python",
   "name": "python",
   "nbconvert_exporter": "python",
   "pygments_lexer": "ipython3",
   "version": "3.10.10"
  },
  "orig_nbformat": 4
 },
 "nbformat": 4,
 "nbformat_minor": 2
}
